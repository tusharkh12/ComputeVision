{
 "cells": [
  {
   "cell_type": "markdown",
   "metadata": {
    "id": "nPladm1IEpv1"
   },
   "source": [
    "# Introduction to our Submission System\n",
    "\n",
    "In this exercise you will:\n",
    "\n",
    "- Optional: Learn how to set up Google Colab for our exercises\n",
    "- Learn how to work with IPython notebooks\n",
    "- Get a small numpy introduction\n",
    "- Learn about our submission system\n",
    "\n",
    "Execute a selected cell with `Shift + Enter`."
   ]
  },
  {
   "cell_type": "markdown",
   "metadata": {
    "id": "mzf8HfRVEpv5"
   },
   "source": [
    "# (Optional) Set up Google Colab\n",
    "\n",
    "If you lack resources CPU or GPU resources to finish an exercise, you can also use your google account to access [google colab](https://colab.research.google.com/) which provides an already set up python environment as well as free resources for training.\n",
    "\n",
    "In order to use google colab follow these steps:\n",
    "1. Access your [google drive](https://drive.google.com/) and upload your i2dl folder that contains the respective exercises/datasets etc. in the main directory:\n",
    "\n",
    "<img name=\"colab folder\" src=\"https://i2dl.vc.in.tum.de/static/images/exercise_01/colab_folder.png\">\n",
    "\n",
    "2. Open the exercise folder and select the notebook you want to open in google colab:\n",
    "\n",
    "<img name=\"colab start notebook\" src=\"https://i2dl.vc.in.tum.de/static/images/exercise_01/colab_start_notebook.png\">\n",
    "\n",
    "3. Uncomment (remove the two '\"\"\"'s) and execute the cell below to mount your gdrive folder. You have to allow google colab to access your folder in the pop up box and sign in to your account once more\n",
    "4. Done, the notebook is now ready to be used with google colab and you can start executing cells from the top of the notebook as desired:\n",
    "\n",
    "<img name=\"colab_done.png\" src=\"https://i2dl.vc.in.tum.de/static/images/exercise_01/colab_done.png\">"
   ]
  },
  {
   "cell_type": "markdown",
   "metadata": {
    "id": "NXd908UeEpv9"
   },
   "source": [
    "## (Optional) Mount folder in Colab\n",
    "\n",
    "Uncomment thefollowing cell to mount your gdrive if you are using the notebook in google colab:"
   ]
  },
  {
   "cell_type": "code",
   "execution_count": null,
   "metadata": {
    "colab": {
     "background_save": true
    },
    "id": "C2WXI4RFEpv_",
    "is_executing": true
   },
   "outputs": [],
   "source": [
    "\n",
    "\"\"\"\n",
    "from google.colab import drive\n",
    "import os\n",
    "\n",
    "gdrive_path='/content/gdrive/MyDrive/i2dl/exercise_01'\n",
    "\n",
    "# This will mount your google drive under 'MyDrive'\n",
    "drive.mount('/content/gdrive', force_remount=True)\n",
    "# In order to access the files in this notebook we have to navigate to the correct folder\n",
    "os.chdir(gdrive_path)\n",
    "# Check manually if all files are present\n",
    "print(sorted(os.listdir()))\n",
    "\"\"\""
   ]
  },
  {
   "cell_type": "markdown",
   "metadata": {
    "id": "nlSliH84EpwD"
   },
   "source": [
    "## 1. IPython Notebooks\n",
    "An IPython notebook is made up of a number of cells. Each cell can contain Python code. You can execute a cell by clicking on it and pressing `Shift-Enter`. When you do so, the code in the cell will be executed, and the output of the cell will be displayed beneath the cell. For example, after running the first cell the notebook looks like this:"
   ]
  },
  {
   "cell_type": "code",
   "execution_count": 1,
   "metadata": {
    "id": "smccfEV6EpwF",
    "ExecuteTime": {
     "end_time": "2024-04-30T13:20:42.194582Z",
     "start_time": "2024-04-30T13:20:42.074934Z"
    }
   },
   "outputs": [
    {
     "name": "stdout",
     "output_type": "stream",
     "text": [
      "8\n"
     ]
    }
   ],
   "source": [
    "x = 5\n",
    "print(x+3)"
   ]
  },
  {
   "cell_type": "markdown",
   "metadata": {
    "id": "xjqLn-F3EpwH"
   },
   "source": [
    "Global variables are shared between cells. Therefore, we can access `x` in the next cell."
   ]
  },
  {
   "cell_type": "code",
   "execution_count": 2,
   "metadata": {
    "id": "gUETUuHCEpwI",
    "ExecuteTime": {
     "end_time": "2024-04-30T13:20:43.342645Z",
     "start_time": "2024-04-30T13:20:43.333678Z"
    }
   },
   "outputs": [
    {
     "name": "stdout",
     "output_type": "stream",
     "text": [
      "15\n"
     ]
    }
   ],
   "source": [
    "print(x+10)"
   ]
  },
  {
   "cell_type": "markdown",
   "metadata": {
    "id": "86tWvhsyEpwL"
   },
   "source": [
    "By convention, IPython notebooks are expected to be run from top to bottom. Failing to execute some cells or executing cells out of order can result in errors:"
   ]
  },
  {
   "cell_type": "code",
   "execution_count": 4,
   "metadata": {
    "id": "l48183LXEpwM",
    "ExecuteTime": {
     "end_time": "2024-04-30T13:20:55.721644Z",
     "start_time": "2024-04-30T13:20:55.718595Z"
    }
   },
   "outputs": [
    {
     "name": "stdout",
     "output_type": "stream",
     "text": [
      "8\n"
     ]
    }
   ],
   "source": [
    "# This does not work\n",
    "print(x+y)"
   ]
  },
  {
   "cell_type": "code",
   "execution_count": 5,
   "metadata": {
    "id": "IB2NHUriEpwP",
    "ExecuteTime": {
     "end_time": "2024-04-30T13:20:57.957778Z",
     "start_time": "2024-04-30T13:20:57.954988Z"
    }
   },
   "outputs": [],
   "source": [
    "# After executing this cell, you can re-evaluate the cell above\n",
    "y = 3"
   ]
  },
  {
   "cell_type": "markdown",
   "metadata": {
    "id": "95SY-hprEpwR"
   },
   "source": [
    "You can edit cells by double clicking them (the color on the left changes from blue to green) and change the text (not really useful) or code (will be useful)."
   ]
  },
  {
   "cell_type": "code",
   "execution_count": 6,
   "metadata": {
    "id": "lkFJixWAEpwR",
    "ExecuteTime": {
     "end_time": "2024-04-30T13:20:59.311927Z",
     "start_time": "2024-04-30T13:20:59.306883Z"
    }
   },
   "outputs": [
    {
     "name": "stdout",
     "output_type": "stream",
     "text": [
      "I have not changed the cell\n"
     ]
    }
   ],
   "source": [
    "print('I have not changed the cell')"
   ]
  },
  {
   "cell_type": "markdown",
   "metadata": {
    "id": "2OiMRpEREpwS"
   },
   "source": [
    "Please make sure that you are using the correct python environment. You can print out the environment path with the following cell. If you use python2 to work on the exercises and submit your model, you will encounter errors."
   ]
  },
  {
   "cell_type": "code",
   "execution_count": 8,
   "metadata": {
    "id": "omkYia2qEpwT",
    "ExecuteTime": {
     "end_time": "2024-04-30T13:21:19.014728Z",
     "start_time": "2024-04-30T13:21:19.002605Z"
    }
   },
   "outputs": [
    {
     "name": "stdout",
     "output_type": "stream",
     "text": [
      "3.11.7 (main, Dec  4 2023, 18:10:11) [Clang 15.0.0 (clang-1500.1.0.2.5)]\n"
     ]
    }
   ],
   "source": [
    "import sys\n",
    "print(sys.version)\n",
    "if sys.version_info <= (3, 10):\n",
    "    print(\"you are using an older version of python. We expect python 3.10.x \\nYou can continue with your version but it might cause some issues\")"
   ]
  },
  {
   "cell_type": "markdown",
   "metadata": {
    "id": "R__ssLWuEpwT"
   },
   "source": [
    "After you have modified an IPython notebook for one of the assignments by modifying or executing some of its cells, remember to __save your changes__!"
   ]
  },
  {
   "cell_type": "markdown",
   "metadata": {
    "id": "ut4PrUn9EpwU"
   },
   "source": [
    "\n",
    "## 2. Imports\n",
    "\n",
    "We start every notebook with a cell containg the important imports. So the first cell of every notebook is the import cell, as this needs to be executed before running any code.\n"
   ]
  },
  {
   "cell_type": "code",
   "execution_count": 9,
   "metadata": {
    "id": "GaVCCEPuEpwW",
    "ExecuteTime": {
     "end_time": "2024-04-30T13:21:26.107001Z",
     "start_time": "2024-04-30T13:21:24.358772Z"
    }
   },
   "outputs": [
    {
     "ename": "ImportError",
     "evalue": "cannot import name '_matplotlib_manages_backends' from 'IPython.core.pylabtools' (/Users/tusharkhandelwal/DataspellProjects/exercise_01/venv/lib/python3.11/site-packages/IPython/core/pylabtools.py)",
     "output_type": "error",
     "traceback": [
      "\u001B[0;31m---------------------------------------------------------------------------\u001B[0m",
      "\u001B[0;31mImportError\u001B[0m                               Traceback (most recent call last)",
      "Cell \u001B[0;32mIn[9], line 9\u001B[0m\n\u001B[1;32m      7\u001B[0m \u001B[38;5;28;01mimport\u001B[39;00m \u001B[38;5;21;01mnumpy\u001B[39;00m \u001B[38;5;28;01mas\u001B[39;00m \u001B[38;5;21;01mnp\u001B[39;00m\n\u001B[1;32m      8\u001B[0m \u001B[38;5;28;01mfrom\u001B[39;00m \u001B[38;5;21;01mPIL\u001B[39;00m \u001B[38;5;28;01mimport\u001B[39;00m Image\n\u001B[0;32m----> 9\u001B[0m \u001B[43mget_ipython\u001B[49m\u001B[43m(\u001B[49m\u001B[43m)\u001B[49m\u001B[38;5;241;43m.\u001B[39;49m\u001B[43mrun_line_magic\u001B[49m\u001B[43m(\u001B[49m\u001B[38;5;124;43m'\u001B[39;49m\u001B[38;5;124;43mmatplotlib\u001B[39;49m\u001B[38;5;124;43m'\u001B[39;49m\u001B[43m,\u001B[49m\u001B[43m \u001B[49m\u001B[38;5;124;43m'\u001B[39;49m\u001B[38;5;124;43minline\u001B[39;49m\u001B[38;5;124;43m'\u001B[39;49m\u001B[43m)\u001B[49m\n\u001B[1;32m     10\u001B[0m plt\u001B[38;5;241m.\u001B[39mrcParams[\u001B[38;5;124m'\u001B[39m\u001B[38;5;124mfigure.figsize\u001B[39m\u001B[38;5;124m'\u001B[39m] \u001B[38;5;241m=\u001B[39m (\u001B[38;5;241m7.0\u001B[39m, \u001B[38;5;241m5.0\u001B[39m) \u001B[38;5;66;03m# set default size of plots\u001B[39;00m\n\u001B[1;32m     11\u001B[0m plt\u001B[38;5;241m.\u001B[39mrcParams[\u001B[38;5;124m'\u001B[39m\u001B[38;5;124mimage.interpolation\u001B[39m\u001B[38;5;124m'\u001B[39m] \u001B[38;5;241m=\u001B[39m \u001B[38;5;124m'\u001B[39m\u001B[38;5;124mnearest\u001B[39m\u001B[38;5;124m'\u001B[39m\n",
      "File \u001B[0;32m~/DataspellProjects/exercise_01/venv/lib/python3.11/site-packages/IPython/core/interactiveshell.py:2480\u001B[0m, in \u001B[0;36mInteractiveShell.run_line_magic\u001B[0;34m(self, magic_name, line, _stack_depth)\u001B[0m\n\u001B[1;32m   2478\u001B[0m     kwargs[\u001B[38;5;124m'\u001B[39m\u001B[38;5;124mlocal_ns\u001B[39m\u001B[38;5;124m'\u001B[39m] \u001B[38;5;241m=\u001B[39m \u001B[38;5;28mself\u001B[39m\u001B[38;5;241m.\u001B[39mget_local_scope(stack_depth)\n\u001B[1;32m   2479\u001B[0m \u001B[38;5;28;01mwith\u001B[39;00m \u001B[38;5;28mself\u001B[39m\u001B[38;5;241m.\u001B[39mbuiltin_trap:\n\u001B[0;32m-> 2480\u001B[0m     result \u001B[38;5;241m=\u001B[39m \u001B[43mfn\u001B[49m\u001B[43m(\u001B[49m\u001B[38;5;241;43m*\u001B[39;49m\u001B[43margs\u001B[49m\u001B[43m,\u001B[49m\u001B[43m \u001B[49m\u001B[38;5;241;43m*\u001B[39;49m\u001B[38;5;241;43m*\u001B[39;49m\u001B[43mkwargs\u001B[49m\u001B[43m)\u001B[49m\n\u001B[1;32m   2482\u001B[0m \u001B[38;5;66;03m# The code below prevents the output from being displayed\u001B[39;00m\n\u001B[1;32m   2483\u001B[0m \u001B[38;5;66;03m# when using magics with decorator @output_can_be_silenced\u001B[39;00m\n\u001B[1;32m   2484\u001B[0m \u001B[38;5;66;03m# when the last Python token in the expression is a ';'.\u001B[39;00m\n\u001B[1;32m   2485\u001B[0m \u001B[38;5;28;01mif\u001B[39;00m \u001B[38;5;28mgetattr\u001B[39m(fn, magic\u001B[38;5;241m.\u001B[39mMAGIC_OUTPUT_CAN_BE_SILENCED, \u001B[38;5;28;01mFalse\u001B[39;00m):\n",
      "File \u001B[0;32m~/DataspellProjects/exercise_01/venv/lib/python3.11/site-packages/IPython/core/magics/pylab.py:103\u001B[0m, in \u001B[0;36mPylabMagics.matplotlib\u001B[0;34m(self, line)\u001B[0m\n\u001B[1;32m     99\u001B[0m         gui, backend \u001B[38;5;241m=\u001B[39m \u001B[38;5;28mself\u001B[39m\u001B[38;5;241m.\u001B[39mshell\u001B[38;5;241m.\u001B[39menable_matplotlib(args\u001B[38;5;241m.\u001B[39mgui\u001B[38;5;241m.\u001B[39mlower() \u001B[38;5;28;01mif\u001B[39;00m \u001B[38;5;28misinstance\u001B[39m(args\u001B[38;5;241m.\u001B[39mgui, \u001B[38;5;28mstr\u001B[39m) \u001B[38;5;28;01melse\u001B[39;00m args\u001B[38;5;241m.\u001B[39mgui)\n\u001B[1;32m    100\u001B[0m         \u001B[38;5;28mself\u001B[39m\u001B[38;5;241m.\u001B[39m_show_matplotlib_backend(args\u001B[38;5;241m.\u001B[39mgui, backend)\n\u001B[1;32m    102\u001B[0m \u001B[38;5;129m@skip_doctest\u001B[39m\n\u001B[0;32m--> 103\u001B[0m \u001B[38;5;129m@line_magic\u001B[39m\n\u001B[1;32m    104\u001B[0m \u001B[38;5;129m@magic_arguments\u001B[39m\u001B[38;5;241m.\u001B[39mmagic_arguments()\n\u001B[1;32m    105\u001B[0m \u001B[38;5;129m@magic_arguments\u001B[39m\u001B[38;5;241m.\u001B[39margument(\n\u001B[1;32m    106\u001B[0m     \u001B[38;5;124m'\u001B[39m\u001B[38;5;124m--no-import-all\u001B[39m\u001B[38;5;124m'\u001B[39m, action\u001B[38;5;241m=\u001B[39m\u001B[38;5;124m'\u001B[39m\u001B[38;5;124mstore_true\u001B[39m\u001B[38;5;124m'\u001B[39m, default\u001B[38;5;241m=\u001B[39m\u001B[38;5;28;01mNone\u001B[39;00m,\n\u001B[1;32m    107\u001B[0m     help\u001B[38;5;241m=\u001B[39m\u001B[38;5;124m\"\"\"\u001B[39m\u001B[38;5;124mPrevent IPython from performing ``import *`` into the interactive namespace.\u001B[39m\n\u001B[1;32m    108\u001B[0m \n\u001B[1;32m    109\u001B[0m \u001B[38;5;124m    You can govern the default behavior of this flag with the\u001B[39m\n\u001B[1;32m    110\u001B[0m \u001B[38;5;124m    InteractiveShellApp.pylab_import_all configurable.\u001B[39m\n\u001B[1;32m    111\u001B[0m \u001B[38;5;124m    \u001B[39m\u001B[38;5;124m\"\"\"\u001B[39m\n\u001B[1;32m    112\u001B[0m )\n\u001B[1;32m    113\u001B[0m \u001B[38;5;129m@magic_gui_arg\u001B[39m\n\u001B[1;32m    114\u001B[0m \u001B[38;5;28;01mdef\u001B[39;00m \u001B[38;5;21mpylab\u001B[39m(\u001B[38;5;28mself\u001B[39m, line\u001B[38;5;241m=\u001B[39m\u001B[38;5;124m'\u001B[39m\u001B[38;5;124m'\u001B[39m):\n\u001B[1;32m    115\u001B[0m \u001B[38;5;250m    \u001B[39m\u001B[38;5;124;03m\"\"\"Load numpy and matplotlib to work interactively.\u001B[39;00m\n\u001B[1;32m    116\u001B[0m \n\u001B[1;32m    117\u001B[0m \u001B[38;5;124;03m    This function lets you activate pylab (matplotlib, numpy and\u001B[39;00m\n\u001B[0;32m   (...)\u001B[0m\n\u001B[1;32m    137\u001B[0m \u001B[38;5;124;03m    without affecting the interactive namespace.\u001B[39;00m\n\u001B[1;32m    138\u001B[0m \u001B[38;5;124;03m    \"\"\"\u001B[39;00m\n\u001B[1;32m    139\u001B[0m     args \u001B[38;5;241m=\u001B[39m magic_arguments\u001B[38;5;241m.\u001B[39mparse_argstring(\u001B[38;5;28mself\u001B[39m\u001B[38;5;241m.\u001B[39mpylab, line)\n",
      "File \u001B[0;32m~/DataspellProjects/exercise_01/venv/lib/python3.11/site-packages/IPython/core/interactiveshell.py:3657\u001B[0m, in \u001B[0;36mInteractiveShell.enable_matplotlib\u001B[0;34m(self, gui)\u001B[0m\n\u001B[1;32m   3636\u001B[0m \u001B[38;5;28;01mdef\u001B[39;00m \u001B[38;5;21menable_matplotlib\u001B[39m(\u001B[38;5;28mself\u001B[39m, gui\u001B[38;5;241m=\u001B[39m\u001B[38;5;28;01mNone\u001B[39;00m):\n\u001B[1;32m   3637\u001B[0m \u001B[38;5;250m    \u001B[39m\u001B[38;5;124;03m\"\"\"Enable interactive matplotlib and inline figure support.\u001B[39;00m\n\u001B[1;32m   3638\u001B[0m \n\u001B[1;32m   3639\u001B[0m \u001B[38;5;124;03m    This takes the following steps:\u001B[39;00m\n\u001B[0;32m   (...)\u001B[0m\n\u001B[1;32m   3655\u001B[0m \u001B[38;5;124;03m        display figures inline.\u001B[39;00m\n\u001B[1;32m   3656\u001B[0m \u001B[38;5;124;03m    \"\"\"\u001B[39;00m\n\u001B[0;32m-> 3657\u001B[0m     \u001B[38;5;28;01mfrom\u001B[39;00m \u001B[38;5;21;01mIPython\u001B[39;00m\u001B[38;5;21;01m.\u001B[39;00m\u001B[38;5;21;01mcore\u001B[39;00m \u001B[38;5;28;01mimport\u001B[39;00m pylabtools \u001B[38;5;28;01mas\u001B[39;00m pt\n\u001B[1;32m   3658\u001B[0m     gui, backend \u001B[38;5;241m=\u001B[39m pt\u001B[38;5;241m.\u001B[39mfind_gui_and_backend(gui, \u001B[38;5;28mself\u001B[39m\u001B[38;5;241m.\u001B[39mpylab_gui_select)\n\u001B[1;32m   3660\u001B[0m     \u001B[38;5;28;01mif\u001B[39;00m gui \u001B[38;5;241m!=\u001B[39m \u001B[38;5;124m'\u001B[39m\u001B[38;5;124minline\u001B[39m\u001B[38;5;124m'\u001B[39m:\n\u001B[1;32m   3661\u001B[0m         \u001B[38;5;66;03m# If we have our first gui selection, store it\u001B[39;00m\n",
      "\u001B[0;31mImportError\u001B[0m: cannot import name '_matplotlib_manages_backends' from 'IPython.core.pylabtools' (/Users/tusharkhandelwal/DataspellProjects/exercise_01/venv/lib/python3.11/site-packages/IPython/core/pylabtools.py)"
     ]
    }
   ],
   "source": [
    "import time\n",
    "import os\n",
    "import random\n",
    "import math\n",
    "import numpy as np\n",
    "import matplotlib.pyplot as plt\n",
    "import numpy as np\n",
    "from PIL import Image\n",
    "%matplotlib inline\n",
    "plt.rcParams['figure.figsize'] = (7.0, 5.0) # set default size of plots\n",
    "plt.rcParams['image.interpolation'] = 'nearest'\n",
    "plt.rcParams['image.cmap'] = 'gray'\n",
    "\n",
    "# for auto-reloading extenrnal modules\n",
    "# see http://stackoverflow.com/questions/1907993/autoreload-of-modules-in-ipython\n",
    "%load_ext autoreload\n",
    "%autoreload 2"
   ]
  },
  {
   "cell_type": "markdown",
   "metadata": {
    "id": "ZfVXCmNfEpwX"
   },
   "source": [
    "# 3. Numpy Introduction\n",
    "\n",
    "Numpy is a high performance framework for operations on multi dimensional arrays. It would be a nice tool in your kitty for working on later exercises and your life as a Data Scientist in general. "
   ]
  },
  {
   "cell_type": "code",
   "execution_count": null,
   "metadata": {
    "ExecuteTime": {
     "end_time": "2023-10-17T16:50:57.598524Z",
     "start_time": "2023-10-17T16:50:57.584387Z"
    },
    "id": "nCjj4l1qEpwY"
   },
   "outputs": [],
   "source": [
    "# Create a simple (2, 3) numpy array\n",
    "# [[ 1  2  3]\n",
    "#  [ 4  5  6]]\n",
    "a = np.array([[1,2,3], [4,5,6]])\n",
    "\n",
    "# Print the data type of this array\n",
    "print(a.dtype)\n",
    "\n",
    "# print the shape of this array\n",
    "print(a.shape)"
   ]
  },
  {
   "cell_type": "code",
   "execution_count": null,
   "metadata": {
    "ExecuteTime": {
     "end_time": "2023-10-17T16:50:57.893380Z",
     "start_time": "2023-10-17T16:50:57.879384Z"
    },
    "id": "V4G6O9aYEpwZ"
   },
   "outputs": [],
   "source": [
    "# Slicing operation \n",
    "# Let us take the first two columns from the original array and save it in a new one\n",
    "b = a[:, :2]\n",
    "print(b)\n",
    "print(b.shape)"
   ]
  },
  {
   "cell_type": "code",
   "execution_count": null,
   "metadata": {
    "ExecuteTime": {
     "end_time": "2023-10-17T16:50:58.289205Z",
     "start_time": "2023-10-17T16:50:58.277671Z"
    },
    "id": "6KTW1pfuEpwZ"
   },
   "outputs": [],
   "source": [
    "# Select elements which satisfy a condition\n",
    "# Using numpy array makes such a selection trivial\n",
    "mask = a > 1\n",
    "new_array = a[mask]\n",
    "new_array"
   ]
  },
  {
   "cell_type": "code",
   "execution_count": null,
   "metadata": {
    "ExecuteTime": {
     "end_time": "2023-10-17T16:50:58.799625Z",
     "start_time": "2023-10-17T16:50:58.756172Z"
    },
    "id": "grjVN3Q7Epwa"
   },
   "outputs": [],
   "source": [
    "# Do the same thing in a single step\n",
    "c = a[a>1]\n",
    "assert np.all(new_array == c) #  np.all() to indicate that all the values need to match"
   ]
  },
  {
   "cell_type": "code",
   "execution_count": null,
   "metadata": {
    "ExecuteTime": {
     "end_time": "2023-10-17T16:50:58.984594Z",
     "start_time": "2023-10-17T16:50:58.972723Z"
    },
    "id": "PzXQPTY4Epwb"
   },
   "outputs": [],
   "source": [
    "# Mathematical operations\n",
    "x = np.array([[1,2],[3,4]])\n",
    "y = np.array([[5,6],[7,8]])\n",
    "\n",
    "# Elementwise sum; both produce the array\n",
    "# [[ 6.0  8.0]\n",
    "#  [10.0 12.0]]\n",
    "print(x + y)\n",
    "print(np.add(x, y))\n",
    "\n",
    "# Elementwise difference; both produce the array\n",
    "# [[-4.0 -4.0]\n",
    "#  [-4.0 -4.0]]\n",
    "print(x - y)\n",
    "print(np.subtract(x, y))\n",
    "\n",
    "# Elementwise product; both produce the array\n",
    "# [[ 5.0 12.0]\n",
    "#  [21.0 32.0]]\n",
    "print(x * y)\n",
    "print(np.multiply(x, y))\n",
    "\n",
    "# Elementwise division; both produce the array\n",
    "# [[ 0.2         0.33333333]\n",
    "#  [ 0.42857143  0.5       ]]\n",
    "print(x / y)\n",
    "print(np.divide(x, y))"
   ]
  },
  {
   "cell_type": "code",
   "execution_count": null,
   "metadata": {
    "ExecuteTime": {
     "end_time": "2023-10-17T16:50:59.299994Z",
     "start_time": "2023-10-17T16:50:59.285962Z"
    },
    "id": "dfHfAHpcEpwd"
   },
   "outputs": [],
   "source": [
    "# Element wise operations\n",
    "# Elementwise square root; produces the array\n",
    "# [[ 1.          1.41421356]\n",
    "#  [ 1.73205081  2.        ]]\n",
    "print(np.sqrt(x))\n",
    "\n",
    "# Element wise exponential operation\n",
    "#[[ 2.71828183  7.3890561 ]\n",
    "#  [20.08553692 54.59815003]] \n",
    "print(np.exp(x))"
   ]
  },
  {
   "cell_type": "markdown",
   "metadata": {
    "id": "UKvibAo8Epwd"
   },
   "source": [
    "A detailed summary of numpy is beyond the scope of this assignment. Please take a look at http://docs.scipy.org/doc/numpy/reference/ for further reference. For this exercise, the tasks we have covered should be enough."
   ]
  },
  {
   "cell_type": "markdown",
   "metadata": {
    "id": "OU8KUJ8LEpwe"
   },
   "source": [
    "## 4. Notebook convenience\n",
    "One of the convenient things about jupyter notebooks is the ability to display images, instructions and guide your thought process. You will not have any new clanky windows opening up and everything shall be inline."
   ]
  },
  {
   "cell_type": "code",
   "execution_count": null,
   "metadata": {
    "ExecuteTime": {
     "end_time": "2023-10-17T16:51:00.466636Z",
     "start_time": "2023-10-17T16:51:00.386823Z"
    },
    "id": "na0SDFMfEpwf"
   },
   "outputs": [],
   "source": [
    "# Load the image first\n",
    "image = Image.open('images/sample_image.jpg')\n",
    "plt.imshow(image)"
   ]
  },
  {
   "cell_type": "markdown",
   "metadata": {
    "id": "hdILif0vEpwg"
   },
   "source": [
    "<div class=\"alert alert-info\">\n",
    "    <h3>Inline Question</h3>\n",
    "    <p>Sometimes we ask inline questions. They should help you to think about the subject that are relevant for the exam.</p>\n",
    "    <p>**Your answer:** You can write your answer here to save it in the ipython notebook so you can review it before the exam. Double click a cell to edit it and enter your answer.</p>\n",
    "</div>"
   ]
  },
  {
   "cell_type": "markdown",
   "metadata": {
    "id": "n-O6AE2CEpwg"
   },
   "source": [
    "## 5. External Files\n",
    "Most of your work will involve implementing certain functions in external python files. You can either open external files here in jupter notebook or edit them with your favourite text or python editor.\n",
    "\n",
    "All files you will have to edit are contained in the `exercise_code` folder. Check out the `Dummy` class in `exercise_code/networks/dummy.py`."
   ]
  },
  {
   "cell_type": "code",
   "execution_count": null,
   "metadata": {
    "ExecuteTime": {
     "end_time": "2023-10-17T16:51:01.988961Z",
     "start_time": "2023-10-17T16:51:01.976462Z"
    },
    "id": "dBQpdEQaEpwh"
   },
   "outputs": [],
   "source": [
    "from exercise_code.networks.dummy import Dummy\n",
    "# Instantiate a \"model\"\n",
    "model = Dummy()"
   ]
  },
  {
   "cell_type": "markdown",
   "metadata": {
    "id": "2137aNDSEpwi"
   },
   "source": [
    "## 6. Dummy Machine\n",
    "\n",
    "Usually, we ask you to train and submit models. You don't need to train anything fancy in this exercise, this is just a sample code to familarize you with the file structure and your future tasks.\n",
    "\n",
    "You need to make some changes to the `forward()` method in `exercise_01/exercise_code/networks/dummy.py`and set `x` to any integer that is larger than 59. We highlight all locations where you should modify the code with boxes in the respective files.\n",
    "\n",
    "<div class=\"alert alert-danger\">\n",
    "    <h3>Warning: Don't modify code outside your assigned boxes</h3>\n",
    "    <p>Make sure that you don't mutate, rename or remove classes or functions outside the respective assigned boxes!</p><p> You can add new functions if you so desire and feel the need of having them structured outside of our respective boxes but besides later exercises these shouldn't be required.</p>\n",
    "</div>"
   ]
  },
  {
   "cell_type": "markdown",
   "metadata": {
    "id": "NZPWZrngEpwj"
   },
   "source": [
    "In this submission you get a score depending upon the number of test cases you pass. Usually, the total points you can secure is between __0 - 100__. For this exercise, you have __one test cases__ which depends on the output of the `forward()` function. You can check the `exercise_01/exercise_code/tests` folder to have a general feel about the unit tests. Please remember that these test cases are just a sample and the submission server has a set of different test cases. "
   ]
  },
  {
   "cell_type": "code",
   "execution_count": null,
   "metadata": {
    "ExecuteTime": {
     "end_time": "2023-10-17T16:51:03.234275Z",
     "start_time": "2023-10-17T16:51:03.220741Z"
    },
    "id": "_up1eg1yEpwl"
   },
   "outputs": [],
   "source": [
    "from exercise_code.tests.dummy_tests import DummyTest\n",
    "\n",
    "test_cases = DummyTest(model)\n",
    "test_cases()"
   ]
  },
  {
   "cell_type": "markdown",
   "metadata": {
    "id": "ifoE9kTzEpwm"
   },
   "source": [
    "## 7. Model Saving\n",
    "Now you need to save the model. We provide you with all the functionality, so you will only need to execute the next cell."
   ]
  },
  {
   "cell_type": "code",
   "execution_count": null,
   "metadata": {
    "ExecuteTime": {
     "end_time": "2023-10-17T16:51:04.156593Z",
     "start_time": "2023-10-17T16:51:04.137830Z"
    },
    "id": "0r7lG5B-Epwn"
   },
   "outputs": [],
   "source": [
    "model.save_model()"
   ]
  },
  {
   "cell_type": "markdown",
   "metadata": {
    "id": "eqXeuQwoEpwo"
   },
   "source": [
    "<div class=\"alert alert-danger\">\n",
    "    <h3>Warning</h3>\n",
    "    <p>You might get an error like this:</p>\n",
    "    <p>PicklingError: Can't pickle `<class 'exercise_code.test_model.TestModel'>`: it's not the same object as exercise_code.test_class.TestSubmission</p>\n",
    "    <p>The reason is that we are using autoreload and working on this class during the notebook session. If you get this error simply restart the kernel and rerun the whole script (Kernel -> Restart & Run All) or only the important cells for generating your model.</p>\n",
    "</div>"
   ]
  },
  {
   "cell_type": "markdown",
   "metadata": {
    "id": "rcR5AVqYEpwo"
   },
   "source": [
    "## 8. Zip File Creation\n",
    "Run the following cell to create the zip file for submission, which contains all the exercise code, models, and ipynb notebooks."
   ]
  },
  {
   "cell_type": "code",
   "execution_count": null,
   "metadata": {
    "ExecuteTime": {
     "end_time": "2023-10-17T16:51:05.248370Z",
     "start_time": "2023-10-17T16:51:05.234916Z"
    },
    "id": "zGB3m_uFEpwp"
   },
   "outputs": [],
   "source": [
    "from exercise_code.submit import submit_exercise\n",
    "\n",
    "submit_exercise('../Output/Exercise_01')"
   ]
  },
  {
   "cell_type": "markdown",
   "metadata": {
    "id": "Ejvmg5AgEpwq"
   },
   "source": [
    "# Submission Goals\n",
    "\n",
    "- Goal: implement dummy machine \n",
    "- Threshold to this exercise: 60\n",
    "- You can make multiple submission until the deadline. Your __best submission__ will be shown on the website. This submission will not count towards the bonus."
   ]
  },
  {
   "cell_type": "markdown",
   "metadata": {
    "id": "LuJugKQdEpwr"
   },
   "source": [
    "# Submission Instructions\n",
    "\n",
    "Now, that you have completed the necessary parts in the notebook, you can go on and submit your files.\n",
    "\n",
    "1. Go on [our submission page](https://i2dl.vc.in.tum.de/), register for an account and login. We use your matriculation number and send an email with the login details to the mail account associated. When in doubt, login into tum-online and check your mails there. You will get an id which we need in the next step. If you are an external student, please contact us directly via the mailing list so that we can issue you a personal account since the automatic registration uses the TUM native matriculation numbers for registration.\n",
    "2. Log into [our submission page](https://i2dl.vc.in.tum.de/) with your account details and upload the zip file.\n",
    "3. Your submission will be evaluated by our system and you will get feedback about the current progress and performance of it. You will get an email with your score as well as a message if you have surpassed the threshold.\n",
    "4. Within the working period, you can submit as many solutions as you want to get the best possible score. Once the submission closes up, you can no longer submit any newer models for graded evaluation."
   ]
  },
  {
   "cell_type": "markdown",
   "metadata": {
    "id": "7lEOCN0JEpws"
   },
   "source": [
    "<img name=\"i2dlsubmission.png\" src=\"https://i2dl.vc.in.tum.de/static/images/exercise_01/i2dlsubmission.png\">"
   ]
  },
  {
   "cell_type": "markdown",
   "metadata": {
    "id": "ueBYT_MYEpwt"
   },
   "source": [
    "## References\n",
    "Congratulations!! You have finished the introductory notebook.\n",
    "Some references to learn how to use basic python libraries (Numpy, Scipy and Matplotlib) that you would need for this course:\n",
    "\n",
    "[1] https://docs.python.org/3/tutorial/\n",
    "\n",
    "[2] http://cs231n.github.io/python-numpy-tutorial/"
   ]
  }
 ],
 "metadata": {
  "colab": {
   "provenance": []
  },
  "kernelspec": {
   "display_name": "Python 3",
   "language": "python",
   "name": "python3"
  },
  "language_info": {
   "codemirror_mode": {
    "name": "ipython",
    "version": 3
   },
   "file_extension": ".py",
   "mimetype": "text/x-python",
   "name": "python",
   "nbconvert_exporter": "python",
   "pygments_lexer": "ipython3",
   "version": "3.10.10"
  },
  "vscode": {
   "interpreter": {
    "hash": "aee8b7b246df8f9039afb4144a1f6fd8d2ca17a180786b69acc140d282b71a49"
   }
  }
 },
 "nbformat": 4,
 "nbformat_minor": 0
}
